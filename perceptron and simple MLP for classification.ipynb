{
 "cells": [
  {
   "cell_type": "markdown",
   "id": "548ba7d4",
   "metadata": {},
   "source": [
    "# Import libraries for perceptron"
   ]
  },
  {
   "cell_type": "code",
   "execution_count": 61,
   "id": "62286ec1",
   "metadata": {},
   "outputs": [],
   "source": [
    "import numpy as np\n",
    "import pandas as pd\n",
    "from sklearn.datasets import load_iris\n",
    "from sklearn.linear_model import Perceptron\n",
    "import matplotlib.pyplot as plt"
   ]
  },
  {
   "cell_type": "markdown",
   "id": "2bceb5a7",
   "metadata": {},
   "source": [
    "# load iris dataset\n",
    "iris dataset for classification problem"
   ]
  },
  {
   "cell_type": "code",
   "execution_count": 4,
   "id": "4e33ee93",
   "metadata": {},
   "outputs": [],
   "source": [
    "iris=load_iris()"
   ]
  },
  {
   "cell_type": "code",
   "execution_count": 5,
   "id": "e3be74f4",
   "metadata": {},
   "outputs": [
    {
     "data": {
      "text/plain": [
       "{'data': array([[5.1, 3.5, 1.4, 0.2],\n",
       "        [4.9, 3. , 1.4, 0.2],\n",
       "        [4.7, 3.2, 1.3, 0.2],\n",
       "        [4.6, 3.1, 1.5, 0.2],\n",
       "        [5. , 3.6, 1.4, 0.2],\n",
       "        [5.4, 3.9, 1.7, 0.4],\n",
       "        [4.6, 3.4, 1.4, 0.3],\n",
       "        [5. , 3.4, 1.5, 0.2],\n",
       "        [4.4, 2.9, 1.4, 0.2],\n",
       "        [4.9, 3.1, 1.5, 0.1],\n",
       "        [5.4, 3.7, 1.5, 0.2],\n",
       "        [4.8, 3.4, 1.6, 0.2],\n",
       "        [4.8, 3. , 1.4, 0.1],\n",
       "        [4.3, 3. , 1.1, 0.1],\n",
       "        [5.8, 4. , 1.2, 0.2],\n",
       "        [5.7, 4.4, 1.5, 0.4],\n",
       "        [5.4, 3.9, 1.3, 0.4],\n",
       "        [5.1, 3.5, 1.4, 0.3],\n",
       "        [5.7, 3.8, 1.7, 0.3],\n",
       "        [5.1, 3.8, 1.5, 0.3],\n",
       "        [5.4, 3.4, 1.7, 0.2],\n",
       "        [5.1, 3.7, 1.5, 0.4],\n",
       "        [4.6, 3.6, 1. , 0.2],\n",
       "        [5.1, 3.3, 1.7, 0.5],\n",
       "        [4.8, 3.4, 1.9, 0.2],\n",
       "        [5. , 3. , 1.6, 0.2],\n",
       "        [5. , 3.4, 1.6, 0.4],\n",
       "        [5.2, 3.5, 1.5, 0.2],\n",
       "        [5.2, 3.4, 1.4, 0.2],\n",
       "        [4.7, 3.2, 1.6, 0.2],\n",
       "        [4.8, 3.1, 1.6, 0.2],\n",
       "        [5.4, 3.4, 1.5, 0.4],\n",
       "        [5.2, 4.1, 1.5, 0.1],\n",
       "        [5.5, 4.2, 1.4, 0.2],\n",
       "        [4.9, 3.1, 1.5, 0.2],\n",
       "        [5. , 3.2, 1.2, 0.2],\n",
       "        [5.5, 3.5, 1.3, 0.2],\n",
       "        [4.9, 3.6, 1.4, 0.1],\n",
       "        [4.4, 3. , 1.3, 0.2],\n",
       "        [5.1, 3.4, 1.5, 0.2],\n",
       "        [5. , 3.5, 1.3, 0.3],\n",
       "        [4.5, 2.3, 1.3, 0.3],\n",
       "        [4.4, 3.2, 1.3, 0.2],\n",
       "        [5. , 3.5, 1.6, 0.6],\n",
       "        [5.1, 3.8, 1.9, 0.4],\n",
       "        [4.8, 3. , 1.4, 0.3],\n",
       "        [5.1, 3.8, 1.6, 0.2],\n",
       "        [4.6, 3.2, 1.4, 0.2],\n",
       "        [5.3, 3.7, 1.5, 0.2],\n",
       "        [5. , 3.3, 1.4, 0.2],\n",
       "        [7. , 3.2, 4.7, 1.4],\n",
       "        [6.4, 3.2, 4.5, 1.5],\n",
       "        [6.9, 3.1, 4.9, 1.5],\n",
       "        [5.5, 2.3, 4. , 1.3],\n",
       "        [6.5, 2.8, 4.6, 1.5],\n",
       "        [5.7, 2.8, 4.5, 1.3],\n",
       "        [6.3, 3.3, 4.7, 1.6],\n",
       "        [4.9, 2.4, 3.3, 1. ],\n",
       "        [6.6, 2.9, 4.6, 1.3],\n",
       "        [5.2, 2.7, 3.9, 1.4],\n",
       "        [5. , 2. , 3.5, 1. ],\n",
       "        [5.9, 3. , 4.2, 1.5],\n",
       "        [6. , 2.2, 4. , 1. ],\n",
       "        [6.1, 2.9, 4.7, 1.4],\n",
       "        [5.6, 2.9, 3.6, 1.3],\n",
       "        [6.7, 3.1, 4.4, 1.4],\n",
       "        [5.6, 3. , 4.5, 1.5],\n",
       "        [5.8, 2.7, 4.1, 1. ],\n",
       "        [6.2, 2.2, 4.5, 1.5],\n",
       "        [5.6, 2.5, 3.9, 1.1],\n",
       "        [5.9, 3.2, 4.8, 1.8],\n",
       "        [6.1, 2.8, 4. , 1.3],\n",
       "        [6.3, 2.5, 4.9, 1.5],\n",
       "        [6.1, 2.8, 4.7, 1.2],\n",
       "        [6.4, 2.9, 4.3, 1.3],\n",
       "        [6.6, 3. , 4.4, 1.4],\n",
       "        [6.8, 2.8, 4.8, 1.4],\n",
       "        [6.7, 3. , 5. , 1.7],\n",
       "        [6. , 2.9, 4.5, 1.5],\n",
       "        [5.7, 2.6, 3.5, 1. ],\n",
       "        [5.5, 2.4, 3.8, 1.1],\n",
       "        [5.5, 2.4, 3.7, 1. ],\n",
       "        [5.8, 2.7, 3.9, 1.2],\n",
       "        [6. , 2.7, 5.1, 1.6],\n",
       "        [5.4, 3. , 4.5, 1.5],\n",
       "        [6. , 3.4, 4.5, 1.6],\n",
       "        [6.7, 3.1, 4.7, 1.5],\n",
       "        [6.3, 2.3, 4.4, 1.3],\n",
       "        [5.6, 3. , 4.1, 1.3],\n",
       "        [5.5, 2.5, 4. , 1.3],\n",
       "        [5.5, 2.6, 4.4, 1.2],\n",
       "        [6.1, 3. , 4.6, 1.4],\n",
       "        [5.8, 2.6, 4. , 1.2],\n",
       "        [5. , 2.3, 3.3, 1. ],\n",
       "        [5.6, 2.7, 4.2, 1.3],\n",
       "        [5.7, 3. , 4.2, 1.2],\n",
       "        [5.7, 2.9, 4.2, 1.3],\n",
       "        [6.2, 2.9, 4.3, 1.3],\n",
       "        [5.1, 2.5, 3. , 1.1],\n",
       "        [5.7, 2.8, 4.1, 1.3],\n",
       "        [6.3, 3.3, 6. , 2.5],\n",
       "        [5.8, 2.7, 5.1, 1.9],\n",
       "        [7.1, 3. , 5.9, 2.1],\n",
       "        [6.3, 2.9, 5.6, 1.8],\n",
       "        [6.5, 3. , 5.8, 2.2],\n",
       "        [7.6, 3. , 6.6, 2.1],\n",
       "        [4.9, 2.5, 4.5, 1.7],\n",
       "        [7.3, 2.9, 6.3, 1.8],\n",
       "        [6.7, 2.5, 5.8, 1.8],\n",
       "        [7.2, 3.6, 6.1, 2.5],\n",
       "        [6.5, 3.2, 5.1, 2. ],\n",
       "        [6.4, 2.7, 5.3, 1.9],\n",
       "        [6.8, 3. , 5.5, 2.1],\n",
       "        [5.7, 2.5, 5. , 2. ],\n",
       "        [5.8, 2.8, 5.1, 2.4],\n",
       "        [6.4, 3.2, 5.3, 2.3],\n",
       "        [6.5, 3. , 5.5, 1.8],\n",
       "        [7.7, 3.8, 6.7, 2.2],\n",
       "        [7.7, 2.6, 6.9, 2.3],\n",
       "        [6. , 2.2, 5. , 1.5],\n",
       "        [6.9, 3.2, 5.7, 2.3],\n",
       "        [5.6, 2.8, 4.9, 2. ],\n",
       "        [7.7, 2.8, 6.7, 2. ],\n",
       "        [6.3, 2.7, 4.9, 1.8],\n",
       "        [6.7, 3.3, 5.7, 2.1],\n",
       "        [7.2, 3.2, 6. , 1.8],\n",
       "        [6.2, 2.8, 4.8, 1.8],\n",
       "        [6.1, 3. , 4.9, 1.8],\n",
       "        [6.4, 2.8, 5.6, 2.1],\n",
       "        [7.2, 3. , 5.8, 1.6],\n",
       "        [7.4, 2.8, 6.1, 1.9],\n",
       "        [7.9, 3.8, 6.4, 2. ],\n",
       "        [6.4, 2.8, 5.6, 2.2],\n",
       "        [6.3, 2.8, 5.1, 1.5],\n",
       "        [6.1, 2.6, 5.6, 1.4],\n",
       "        [7.7, 3. , 6.1, 2.3],\n",
       "        [6.3, 3.4, 5.6, 2.4],\n",
       "        [6.4, 3.1, 5.5, 1.8],\n",
       "        [6. , 3. , 4.8, 1.8],\n",
       "        [6.9, 3.1, 5.4, 2.1],\n",
       "        [6.7, 3.1, 5.6, 2.4],\n",
       "        [6.9, 3.1, 5.1, 2.3],\n",
       "        [5.8, 2.7, 5.1, 1.9],\n",
       "        [6.8, 3.2, 5.9, 2.3],\n",
       "        [6.7, 3.3, 5.7, 2.5],\n",
       "        [6.7, 3. , 5.2, 2.3],\n",
       "        [6.3, 2.5, 5. , 1.9],\n",
       "        [6.5, 3. , 5.2, 2. ],\n",
       "        [6.2, 3.4, 5.4, 2.3],\n",
       "        [5.9, 3. , 5.1, 1.8]]),\n",
       " 'target': array([0, 0, 0, 0, 0, 0, 0, 0, 0, 0, 0, 0, 0, 0, 0, 0, 0, 0, 0, 0, 0, 0,\n",
       "        0, 0, 0, 0, 0, 0, 0, 0, 0, 0, 0, 0, 0, 0, 0, 0, 0, 0, 0, 0, 0, 0,\n",
       "        0, 0, 0, 0, 0, 0, 1, 1, 1, 1, 1, 1, 1, 1, 1, 1, 1, 1, 1, 1, 1, 1,\n",
       "        1, 1, 1, 1, 1, 1, 1, 1, 1, 1, 1, 1, 1, 1, 1, 1, 1, 1, 1, 1, 1, 1,\n",
       "        1, 1, 1, 1, 1, 1, 1, 1, 1, 1, 1, 1, 2, 2, 2, 2, 2, 2, 2, 2, 2, 2,\n",
       "        2, 2, 2, 2, 2, 2, 2, 2, 2, 2, 2, 2, 2, 2, 2, 2, 2, 2, 2, 2, 2, 2,\n",
       "        2, 2, 2, 2, 2, 2, 2, 2, 2, 2, 2, 2, 2, 2, 2, 2, 2, 2]),\n",
       " 'frame': None,\n",
       " 'target_names': array(['setosa', 'versicolor', 'virginica'], dtype='<U10'),\n",
       " 'DESCR': '.. _iris_dataset:\\n\\nIris plants dataset\\n--------------------\\n\\n**Data Set Characteristics:**\\n\\n    :Number of Instances: 150 (50 in each of three classes)\\n    :Number of Attributes: 4 numeric, predictive attributes and the class\\n    :Attribute Information:\\n        - sepal length in cm\\n        - sepal width in cm\\n        - petal length in cm\\n        - petal width in cm\\n        - class:\\n                - Iris-Setosa\\n                - Iris-Versicolour\\n                - Iris-Virginica\\n                \\n    :Summary Statistics:\\n\\n    ============== ==== ==== ======= ===== ====================\\n                    Min  Max   Mean    SD   Class Correlation\\n    ============== ==== ==== ======= ===== ====================\\n    sepal length:   4.3  7.9   5.84   0.83    0.7826\\n    sepal width:    2.0  4.4   3.05   0.43   -0.4194\\n    petal length:   1.0  6.9   3.76   1.76    0.9490  (high!)\\n    petal width:    0.1  2.5   1.20   0.76    0.9565  (high!)\\n    ============== ==== ==== ======= ===== ====================\\n\\n    :Missing Attribute Values: None\\n    :Class Distribution: 33.3% for each of 3 classes.\\n    :Creator: R.A. Fisher\\n    :Donor: Michael Marshall (MARSHALL%PLU@io.arc.nasa.gov)\\n    :Date: July, 1988\\n\\nThe famous Iris database, first used by Sir R.A. Fisher. The dataset is taken\\nfrom Fisher\\'s paper. Note that it\\'s the same as in R, but not as in the UCI\\nMachine Learning Repository, which has two wrong data points.\\n\\nThis is perhaps the best known database to be found in the\\npattern recognition literature.  Fisher\\'s paper is a classic in the field and\\nis referenced frequently to this day.  (See Duda & Hart, for example.)  The\\ndata set contains 3 classes of 50 instances each, where each class refers to a\\ntype of iris plant.  One class is linearly separable from the other 2; the\\nlatter are NOT linearly separable from each other.\\n\\n.. topic:: References\\n\\n   - Fisher, R.A. \"The use of multiple measurements in taxonomic problems\"\\n     Annual Eugenics, 7, Part II, 179-188 (1936); also in \"Contributions to\\n     Mathematical Statistics\" (John Wiley, NY, 1950).\\n   - Duda, R.O., & Hart, P.E. (1973) Pattern Classification and Scene Analysis.\\n     (Q327.D83) John Wiley & Sons.  ISBN 0-471-22361-1.  See page 218.\\n   - Dasarathy, B.V. (1980) \"Nosing Around the Neighborhood: A New System\\n     Structure and Classification Rule for Recognition in Partially Exposed\\n     Environments\".  IEEE Transactions on Pattern Analysis and Machine\\n     Intelligence, Vol. PAMI-2, No. 1, 67-71.\\n   - Gates, G.W. (1972) \"The Reduced Nearest Neighbor Rule\".  IEEE Transactions\\n     on Information Theory, May 1972, 431-433.\\n   - See also: 1988 MLC Proceedings, 54-64.  Cheeseman et al\"s AUTOCLASS II\\n     conceptual clustering system finds 3 classes in the data.\\n   - Many, many more ...',\n",
       " 'feature_names': ['sepal length (cm)',\n",
       "  'sepal width (cm)',\n",
       "  'petal length (cm)',\n",
       "  'petal width (cm)'],\n",
       " 'filename': 'iris.csv',\n",
       " 'data_module': 'sklearn.datasets.data'}"
      ]
     },
     "execution_count": 5,
     "metadata": {},
     "output_type": "execute_result"
    }
   ],
   "source": [
    "iris"
   ]
  },
  {
   "cell_type": "markdown",
   "id": "fbaa8f8e",
   "metadata": {},
   "source": [
    "# Display the classes of the target"
   ]
  },
  {
   "cell_type": "code",
   "execution_count": 6,
   "id": "4ac7bde8",
   "metadata": {},
   "outputs": [
    {
     "data": {
      "text/plain": [
       "array(['setosa', 'versicolor', 'virginica'], dtype='<U10')"
      ]
     },
     "execution_count": 6,
     "metadata": {},
     "output_type": "execute_result"
    }
   ],
   "source": [
    "iris.target_names"
   ]
  },
  {
   "cell_type": "markdown",
   "id": "2f649a76",
   "metadata": {},
   "source": [
    "# Display the input features of the dataset"
   ]
  },
  {
   "cell_type": "code",
   "execution_count": 7,
   "id": "a0dc4884",
   "metadata": {},
   "outputs": [
    {
     "data": {
      "text/plain": [
       "['sepal length (cm)',\n",
       " 'sepal width (cm)',\n",
       " 'petal length (cm)',\n",
       " 'petal width (cm)']"
      ]
     },
     "execution_count": 7,
     "metadata": {},
     "output_type": "execute_result"
    }
   ],
   "source": [
    "iris.feature_names"
   ]
  },
  {
   "cell_type": "code",
   "execution_count": 8,
   "id": "5a933d10",
   "metadata": {},
   "outputs": [
    {
     "data": {
      "text/plain": [
       "array([[5.1, 3.5, 1.4, 0.2],\n",
       "       [4.9, 3. , 1.4, 0.2],\n",
       "       [4.7, 3.2, 1.3, 0.2],\n",
       "       [4.6, 3.1, 1.5, 0.2],\n",
       "       [5. , 3.6, 1.4, 0.2],\n",
       "       [5.4, 3.9, 1.7, 0.4],\n",
       "       [4.6, 3.4, 1.4, 0.3],\n",
       "       [5. , 3.4, 1.5, 0.2],\n",
       "       [4.4, 2.9, 1.4, 0.2],\n",
       "       [4.9, 3.1, 1.5, 0.1],\n",
       "       [5.4, 3.7, 1.5, 0.2],\n",
       "       [4.8, 3.4, 1.6, 0.2],\n",
       "       [4.8, 3. , 1.4, 0.1],\n",
       "       [4.3, 3. , 1.1, 0.1],\n",
       "       [5.8, 4. , 1.2, 0.2],\n",
       "       [5.7, 4.4, 1.5, 0.4],\n",
       "       [5.4, 3.9, 1.3, 0.4],\n",
       "       [5.1, 3.5, 1.4, 0.3],\n",
       "       [5.7, 3.8, 1.7, 0.3],\n",
       "       [5.1, 3.8, 1.5, 0.3],\n",
       "       [5.4, 3.4, 1.7, 0.2],\n",
       "       [5.1, 3.7, 1.5, 0.4],\n",
       "       [4.6, 3.6, 1. , 0.2],\n",
       "       [5.1, 3.3, 1.7, 0.5],\n",
       "       [4.8, 3.4, 1.9, 0.2],\n",
       "       [5. , 3. , 1.6, 0.2],\n",
       "       [5. , 3.4, 1.6, 0.4],\n",
       "       [5.2, 3.5, 1.5, 0.2],\n",
       "       [5.2, 3.4, 1.4, 0.2],\n",
       "       [4.7, 3.2, 1.6, 0.2],\n",
       "       [4.8, 3.1, 1.6, 0.2],\n",
       "       [5.4, 3.4, 1.5, 0.4],\n",
       "       [5.2, 4.1, 1.5, 0.1],\n",
       "       [5.5, 4.2, 1.4, 0.2],\n",
       "       [4.9, 3.1, 1.5, 0.2],\n",
       "       [5. , 3.2, 1.2, 0.2],\n",
       "       [5.5, 3.5, 1.3, 0.2],\n",
       "       [4.9, 3.6, 1.4, 0.1],\n",
       "       [4.4, 3. , 1.3, 0.2],\n",
       "       [5.1, 3.4, 1.5, 0.2],\n",
       "       [5. , 3.5, 1.3, 0.3],\n",
       "       [4.5, 2.3, 1.3, 0.3],\n",
       "       [4.4, 3.2, 1.3, 0.2],\n",
       "       [5. , 3.5, 1.6, 0.6],\n",
       "       [5.1, 3.8, 1.9, 0.4],\n",
       "       [4.8, 3. , 1.4, 0.3],\n",
       "       [5.1, 3.8, 1.6, 0.2],\n",
       "       [4.6, 3.2, 1.4, 0.2],\n",
       "       [5.3, 3.7, 1.5, 0.2],\n",
       "       [5. , 3.3, 1.4, 0.2],\n",
       "       [7. , 3.2, 4.7, 1.4],\n",
       "       [6.4, 3.2, 4.5, 1.5],\n",
       "       [6.9, 3.1, 4.9, 1.5],\n",
       "       [5.5, 2.3, 4. , 1.3],\n",
       "       [6.5, 2.8, 4.6, 1.5],\n",
       "       [5.7, 2.8, 4.5, 1.3],\n",
       "       [6.3, 3.3, 4.7, 1.6],\n",
       "       [4.9, 2.4, 3.3, 1. ],\n",
       "       [6.6, 2.9, 4.6, 1.3],\n",
       "       [5.2, 2.7, 3.9, 1.4],\n",
       "       [5. , 2. , 3.5, 1. ],\n",
       "       [5.9, 3. , 4.2, 1.5],\n",
       "       [6. , 2.2, 4. , 1. ],\n",
       "       [6.1, 2.9, 4.7, 1.4],\n",
       "       [5.6, 2.9, 3.6, 1.3],\n",
       "       [6.7, 3.1, 4.4, 1.4],\n",
       "       [5.6, 3. , 4.5, 1.5],\n",
       "       [5.8, 2.7, 4.1, 1. ],\n",
       "       [6.2, 2.2, 4.5, 1.5],\n",
       "       [5.6, 2.5, 3.9, 1.1],\n",
       "       [5.9, 3.2, 4.8, 1.8],\n",
       "       [6.1, 2.8, 4. , 1.3],\n",
       "       [6.3, 2.5, 4.9, 1.5],\n",
       "       [6.1, 2.8, 4.7, 1.2],\n",
       "       [6.4, 2.9, 4.3, 1.3],\n",
       "       [6.6, 3. , 4.4, 1.4],\n",
       "       [6.8, 2.8, 4.8, 1.4],\n",
       "       [6.7, 3. , 5. , 1.7],\n",
       "       [6. , 2.9, 4.5, 1.5],\n",
       "       [5.7, 2.6, 3.5, 1. ],\n",
       "       [5.5, 2.4, 3.8, 1.1],\n",
       "       [5.5, 2.4, 3.7, 1. ],\n",
       "       [5.8, 2.7, 3.9, 1.2],\n",
       "       [6. , 2.7, 5.1, 1.6],\n",
       "       [5.4, 3. , 4.5, 1.5],\n",
       "       [6. , 3.4, 4.5, 1.6],\n",
       "       [6.7, 3.1, 4.7, 1.5],\n",
       "       [6.3, 2.3, 4.4, 1.3],\n",
       "       [5.6, 3. , 4.1, 1.3],\n",
       "       [5.5, 2.5, 4. , 1.3],\n",
       "       [5.5, 2.6, 4.4, 1.2],\n",
       "       [6.1, 3. , 4.6, 1.4],\n",
       "       [5.8, 2.6, 4. , 1.2],\n",
       "       [5. , 2.3, 3.3, 1. ],\n",
       "       [5.6, 2.7, 4.2, 1.3],\n",
       "       [5.7, 3. , 4.2, 1.2],\n",
       "       [5.7, 2.9, 4.2, 1.3],\n",
       "       [6.2, 2.9, 4.3, 1.3],\n",
       "       [5.1, 2.5, 3. , 1.1],\n",
       "       [5.7, 2.8, 4.1, 1.3],\n",
       "       [6.3, 3.3, 6. , 2.5],\n",
       "       [5.8, 2.7, 5.1, 1.9],\n",
       "       [7.1, 3. , 5.9, 2.1],\n",
       "       [6.3, 2.9, 5.6, 1.8],\n",
       "       [6.5, 3. , 5.8, 2.2],\n",
       "       [7.6, 3. , 6.6, 2.1],\n",
       "       [4.9, 2.5, 4.5, 1.7],\n",
       "       [7.3, 2.9, 6.3, 1.8],\n",
       "       [6.7, 2.5, 5.8, 1.8],\n",
       "       [7.2, 3.6, 6.1, 2.5],\n",
       "       [6.5, 3.2, 5.1, 2. ],\n",
       "       [6.4, 2.7, 5.3, 1.9],\n",
       "       [6.8, 3. , 5.5, 2.1],\n",
       "       [5.7, 2.5, 5. , 2. ],\n",
       "       [5.8, 2.8, 5.1, 2.4],\n",
       "       [6.4, 3.2, 5.3, 2.3],\n",
       "       [6.5, 3. , 5.5, 1.8],\n",
       "       [7.7, 3.8, 6.7, 2.2],\n",
       "       [7.7, 2.6, 6.9, 2.3],\n",
       "       [6. , 2.2, 5. , 1.5],\n",
       "       [6.9, 3.2, 5.7, 2.3],\n",
       "       [5.6, 2.8, 4.9, 2. ],\n",
       "       [7.7, 2.8, 6.7, 2. ],\n",
       "       [6.3, 2.7, 4.9, 1.8],\n",
       "       [6.7, 3.3, 5.7, 2.1],\n",
       "       [7.2, 3.2, 6. , 1.8],\n",
       "       [6.2, 2.8, 4.8, 1.8],\n",
       "       [6.1, 3. , 4.9, 1.8],\n",
       "       [6.4, 2.8, 5.6, 2.1],\n",
       "       [7.2, 3. , 5.8, 1.6],\n",
       "       [7.4, 2.8, 6.1, 1.9],\n",
       "       [7.9, 3.8, 6.4, 2. ],\n",
       "       [6.4, 2.8, 5.6, 2.2],\n",
       "       [6.3, 2.8, 5.1, 1.5],\n",
       "       [6.1, 2.6, 5.6, 1.4],\n",
       "       [7.7, 3. , 6.1, 2.3],\n",
       "       [6.3, 3.4, 5.6, 2.4],\n",
       "       [6.4, 3.1, 5.5, 1.8],\n",
       "       [6. , 3. , 4.8, 1.8],\n",
       "       [6.9, 3.1, 5.4, 2.1],\n",
       "       [6.7, 3.1, 5.6, 2.4],\n",
       "       [6.9, 3.1, 5.1, 2.3],\n",
       "       [5.8, 2.7, 5.1, 1.9],\n",
       "       [6.8, 3.2, 5.9, 2.3],\n",
       "       [6.7, 3.3, 5.7, 2.5],\n",
       "       [6.7, 3. , 5.2, 2.3],\n",
       "       [6.3, 2.5, 5. , 1.9],\n",
       "       [6.5, 3. , 5.2, 2. ],\n",
       "       [6.2, 3.4, 5.4, 2.3],\n",
       "       [5.9, 3. , 5.1, 1.8]])"
      ]
     },
     "execution_count": 8,
     "metadata": {},
     "output_type": "execute_result"
    }
   ],
   "source": [
    "iris.data"
   ]
  },
  {
   "cell_type": "markdown",
   "id": "3f602967",
   "metadata": {},
   "source": [
    "# Take predictor variable in X"
   ]
  },
  {
   "cell_type": "code",
   "execution_count": 9,
   "id": "038e4316",
   "metadata": {},
   "outputs": [],
   "source": [
    "x=iris.data"
   ]
  },
  {
   "cell_type": "markdown",
   "id": "e23cf71d",
   "metadata": {},
   "source": [
    "# Take the target variable in y"
   ]
  },
  {
   "cell_type": "code",
   "execution_count": 10,
   "id": "36563d88",
   "metadata": {},
   "outputs": [
    {
     "name": "stderr",
     "output_type": "stream",
     "text": [
      "C:\\Users\\Tumpa\\AppData\\Local\\Temp\\ipykernel_24376\\1175677197.py:1: DeprecationWarning: `np.int` is a deprecated alias for the builtin `int`. To silence this warning, use `int` by itself. Doing this will not modify any behavior and is safe. When replacing `np.int`, you may wish to use e.g. `np.int64` or `np.int32` to specify the precision. If you wish to review your current use, check the release note link for additional information.\n",
      "Deprecated in NumPy 1.20; for more details and guidance: https://numpy.org/devdocs/release/1.20.0-notes.html#deprecations\n",
      "  y=(iris.target==0).astype(np.int) #Iris Setosa\n"
     ]
    }
   ],
   "source": [
    "y=(iris.target==0).astype(np.int) #Iris Setosa"
   ]
  },
  {
   "cell_type": "markdown",
   "id": "5c8fe031",
   "metadata": {},
   "source": [
    "# Frame the perceptron and build the model"
   ]
  },
  {
   "cell_type": "code",
   "execution_count": 11,
   "id": "2fc60b98",
   "metadata": {},
   "outputs": [],
   "source": [
    "perceptron=Perceptron()\n",
    "perceptron.fit(x,y)\n",
    "y_pred=perceptron.predict([[5.2, 3.4, 1.4, 0.2]])"
   ]
  },
  {
   "cell_type": "markdown",
   "id": "3d583d30",
   "metadata": {},
   "source": [
    "# Predict the value of the target variable"
   ]
  },
  {
   "cell_type": "code",
   "execution_count": 12,
   "id": "8b5e5eae",
   "metadata": {},
   "outputs": [
    {
     "data": {
      "text/plain": [
       "array([1])"
      ]
     },
     "execution_count": 12,
     "metadata": {},
     "output_type": "execute_result"
    }
   ],
   "source": [
    "y_pred"
   ]
  },
  {
   "cell_type": "code",
   "execution_count": 16,
   "id": "7e4d22c1",
   "metadata": {},
   "outputs": [],
   "source": [
    "# Take only patel length and width as predictor variable and check the output of the perceptron"
   ]
  },
  {
   "cell_type": "code",
   "execution_count": 17,
   "id": "6f3ab3b0",
   "metadata": {},
   "outputs": [],
   "source": [
    "x=iris.data[:,(2,3)]"
   ]
  },
  {
   "cell_type": "code",
   "execution_count": 18,
   "id": "a2475de3",
   "metadata": {},
   "outputs": [],
   "source": [
    "perceptron=Perceptron()\n",
    "perceptron.fit(x,y)\n",
    "y_pred=perceptron.predict([[1.4, 0.2]])"
   ]
  },
  {
   "cell_type": "markdown",
   "id": "ae22deea",
   "metadata": {},
   "source": [
    "# Print the output"
   ]
  },
  {
   "cell_type": "code",
   "execution_count": 19,
   "id": "bc3410a8",
   "metadata": {},
   "outputs": [
    {
     "data": {
      "text/plain": [
       "array([1])"
      ]
     },
     "execution_count": 19,
     "metadata": {},
     "output_type": "execute_result"
    }
   ],
   "source": [
    "y_pred"
   ]
  },
  {
   "cell_type": "markdown",
   "id": "b9a67a5d",
   "metadata": {},
   "source": [
    "# Implementing MLP using keras"
   ]
  },
  {
   "cell_type": "code",
   "execution_count": 21,
   "id": "5fe399ee",
   "metadata": {},
   "outputs": [],
   "source": [
    "import tensorflow as tf\n",
    "from tensorflow import keras"
   ]
  },
  {
   "cell_type": "code",
   "execution_count": 23,
   "id": "38d20a23",
   "metadata": {},
   "outputs": [
    {
     "data": {
      "text/plain": [
       "'2.11.0'"
      ]
     },
     "execution_count": 23,
     "metadata": {},
     "output_type": "execute_result"
    }
   ],
   "source": [
    "tf.__version__"
   ]
  },
  {
   "cell_type": "code",
   "execution_count": 24,
   "id": "aa06c85d",
   "metadata": {},
   "outputs": [
    {
     "data": {
      "text/plain": [
       "'2.11.0'"
      ]
     },
     "execution_count": 24,
     "metadata": {},
     "output_type": "execute_result"
    }
   ],
   "source": [
    "keras.__version__"
   ]
  },
  {
   "cell_type": "code",
   "execution_count": 26,
   "id": "cdef8b09",
   "metadata": {},
   "outputs": [],
   "source": [
    "fashion_mnist=keras.datasets.fashion_mnist\n"
   ]
  },
  {
   "cell_type": "code",
   "execution_count": 69,
   "id": "865c2fe3",
   "metadata": {},
   "outputs": [],
   "source": [
    "(x_train,y_train),(x_test,y_test)=fashion_mnist.load_data()"
   ]
  },
  {
   "cell_type": "code",
   "execution_count": 70,
   "id": "6f69e730",
   "metadata": {},
   "outputs": [
    {
     "data": {
      "text/plain": [
       "(60000, 28, 28)"
      ]
     },
     "execution_count": 70,
     "metadata": {},
     "output_type": "execute_result"
    }
   ],
   "source": [
    "x_train.shape"
   ]
  },
  {
   "cell_type": "code",
   "execution_count": 71,
   "id": "eac12bfb",
   "metadata": {},
   "outputs": [],
   "source": [
    "class_names = [\"T-shirt/top\", \"Trouser\", \"Pullover\", \"Dress\", \"Coat\",\n",
    "\"Sandal\", \"Shirt\", \"Sneaker\", \"Bag\", \"Ankle boot\"]"
   ]
  },
  {
   "cell_type": "markdown",
   "id": "31864b8d",
   "metadata": {},
   "source": [
    "# Display some fashion items and its label"
   ]
  },
  {
   "cell_type": "code",
   "execution_count": 39,
   "id": "bc6bb63f",
   "metadata": {},
   "outputs": [
    {
     "name": "stdout",
     "output_type": "stream",
     "text": [
      "Ankle boot\n"
     ]
    },
    {
     "data": {
      "image/png": "[encoded data removed]",
      "text/plain": [
       "<Figure size 640x480 with 1 Axes>"
      ]
     },
     "metadata": {},
     "output_type": "display_data"
    }
   ],
   "source": [
    "print(class_names[y_train[0]])\n",
    "plt.imshow(x_train[0,:,:])\n",
    "plt.show()"
   ]
  },
  {
   "cell_type": "code",
   "execution_count": 42,
   "id": "68296507",
   "metadata": {},
   "outputs": [
    {
     "name": "stdout",
     "output_type": "stream",
     "text": [
      "T-shirt/top\n"
     ]
    },
    {
     "data": {
      "image/png": "[encoded data removed]",
      "text/plain": [
       "<Figure size 640x480 with 1 Axes>"
      ]
     },
     "metadata": {},
     "output_type": "display_data"
    }
   ],
   "source": [
    "print(class_names[y_train[1]])\n",
    "plt.imshow(x_train[1,:,:])\n",
    "plt.show()"
   ]
  },
  {
   "cell_type": "code",
   "execution_count": 43,
   "id": "d16192ad",
   "metadata": {},
   "outputs": [
    {
     "name": "stdout",
     "output_type": "stream",
     "text": [
      "T-shirt/top\n"
     ]
    },
    {
     "data": {
      "image/png": "[encoded data removed]",
      "text/plain": [
       "<Figure size 640x480 with 1 Axes>"
      ]
     },
     "metadata": {},
     "output_type": "display_data"
    }
   ],
   "source": [
    "print(class_names[y_train[2]])\n",
    "plt.imshow(x_train[2,:,:])\n",
    "plt.show()"
   ]
  },
  {
   "cell_type": "code",
   "execution_count": 44,
   "id": "805422ac",
   "metadata": {},
   "outputs": [
    {
     "name": "stdout",
     "output_type": "stream",
     "text": [
      "T-shirt/top\n"
     ]
    },
    {
     "data": {
      "image/png": "[encoded data removed]",
      "text/plain": [
       "<Figure size 640x480 with 1 Axes>"
      ]
     },
     "metadata": {},
     "output_type": "display_data"
    }
   ],
   "source": [
    "print(class_names[y_train[4]])\n",
    "plt.imshow(x_train[4,:,:])\n",
    "plt.show()"
   ]
  },
  {
   "cell_type": "code",
   "execution_count": 72,
   "id": "aed448f9",
   "metadata": {},
   "outputs": [
    {
     "data": {
      "text/plain": [
       "(60000, 28, 28)"
      ]
     },
     "execution_count": 72,
     "metadata": {},
     "output_type": "execute_result"
    }
   ],
   "source": [
    "x_train.shape"
   ]
  },
  {
   "cell_type": "markdown",
   "id": "33ad21f2",
   "metadata": {},
   "source": [
    "# Scale the data"
   ]
  },
  {
   "cell_type": "code",
   "execution_count": 73,
   "id": "1b91ad1c",
   "metadata": {},
   "outputs": [],
   "source": [
    "x_train,x_val=x_train[:45000,:,:]/255.0,x_train[45000:,:,:]/255.0\n",
    "y_train,y_val=y_train[:45000],y_train[45000:]"
   ]
  },
  {
   "cell_type": "code",
   "execution_count": 78,
   "id": "4be64478",
   "metadata": {},
   "outputs": [],
   "source": [
    "x_test=x_test/255.0"
   ]
  },
  {
   "cell_type": "markdown",
   "id": "94c1e6ae",
   "metadata": {},
   "source": [
    "# Create a neural network with Sequential API"
   ]
  },
  {
   "cell_type": "code",
   "execution_count": 54,
   "id": "8afb82f2",
   "metadata": {},
   "outputs": [],
   "source": [
    "model=keras.models.Sequential() # simplest kind of keras model requires to composed a single stack of layers, connected sequentially\n",
    "model.add(keras.layers.Flatten(input_shape=[28,28])) #include first layer/input layer, specify number of inputs\n",
    "model.add(keras.layers.Dense(300,activation='relu')) #a dense hidden layer with 300 neuron and relu activation function\n",
    "model.add(keras.layers.Dense(10,activation=\"softmax\")) #a dense output layer with 10 neuron and SoftMax activation function\n"
   ]
  },
  {
   "cell_type": "code",
   "execution_count": 55,
   "id": "e2c9ef2c",
   "metadata": {},
   "outputs": [
    {
     "name": "stdout",
     "output_type": "stream",
     "text": [
      "Model: \"sequential_5\"\n",
      "_________________________________________________________________\n",
      " Layer (type)                Output Shape              Param #   \n",
      "=================================================================\n",
      " flatten_8 (Flatten)         (None, 784)               0         \n",
      "                                                                 \n",
      " dense_12 (Dense)            (None, 300)               235500    \n",
      "                                                                 \n",
      " dense_13 (Dense)            (None, 10)                3010      \n",
      "                                                                 \n",
      "=================================================================\n",
      "Total params: 238,510\n",
      "Trainable params: 238,510\n",
      "Non-trainable params: 0\n",
      "_________________________________________________________________\n"
     ]
    }
   ],
   "source": [
    "model.summary()"
   ]
  },
  {
   "cell_type": "code",
   "execution_count": 56,
   "id": "4745a55e",
   "metadata": {},
   "outputs": [
    {
     "data": {
      "text/plain": [
       "[<keras.layers.reshaping.flatten.Flatten at 0x22a495fae80>,\n",
       " <keras.layers.core.dense.Dense at 0x22a494b5910>,\n",
       " <keras.layers.core.dense.Dense at 0x22a495eb790>]"
      ]
     },
     "execution_count": 56,
     "metadata": {},
     "output_type": "execute_result"
    }
   ],
   "source": [
    "model.layers"
   ]
  },
  {
   "cell_type": "markdown",
   "id": "87dfb921",
   "metadata": {},
   "source": [
    "# Compile the model\n",
    "compile() method specify the loss function and the optimizer to use. We can specify some other parameters for training and testing\n"
   ]
  },
  {
   "cell_type": "code",
   "execution_count": 59,
   "id": "9ac6ee63",
   "metadata": {},
   "outputs": [],
   "source": [
    "model.compile(loss=\"sparse_categorical_crossentropy\",optimizer='sgd',metrics=[\"accuracy\"])"
   ]
  },
  {
   "cell_type": "code",
   "execution_count": 60,
   "id": "301b2f58",
   "metadata": {},
   "outputs": [
    {
     "name": "stdout",
     "output_type": "stream",
     "text": [
      "Epoch 1/30\n",
      "1875/1875 [==============================] - 12s 6ms/step - loss: 224.8139 - accuracy: 0.1352\n",
      "Epoch 2/30\n",
      "1875/1875 [==============================] - 11s 6ms/step - loss: 2.2438 - accuracy: 0.1288\n",
      "Epoch 3/30\n",
      "1875/1875 [==============================] - 11s 6ms/step - loss: 2.3029 - accuracy: 0.0989\n",
      "Epoch 4/30\n",
      "1875/1875 [==============================] - 10s 5ms/step - loss: 2.3024 - accuracy: 0.1000\n",
      "Epoch 5/30\n",
      "1875/1875 [==============================] - 4s 2ms/step - loss: 2.3028 - accuracy: 0.0985\n",
      "Epoch 6/30\n",
      "1875/1875 [==============================] - 3s 2ms/step - loss: 2.2994 - accuracy: 0.1017\n",
      "Epoch 7/30\n",
      "1875/1875 [==============================] - 3s 2ms/step - loss: 2.3018 - accuracy: 0.1019\n",
      "Epoch 8/30\n",
      "1875/1875 [==============================] - 5s 3ms/step - loss: 2.3023 - accuracy: 0.0984\n",
      "Epoch 9/30\n",
      "1875/1875 [==============================] - 4s 2ms/step - loss: 2.3021 - accuracy: 0.0971\n",
      "Epoch 10/30\n",
      "1875/1875 [==============================] - 3s 2ms/step - loss: 2.3023 - accuracy: 0.0983\n",
      "Epoch 11/30\n",
      "1875/1875 [==============================] - 3s 2ms/step - loss: 2.3022 - accuracy: 0.0968\n",
      "Epoch 12/30\n",
      "1875/1875 [==============================] - 4s 2ms/step - loss: 2.3022 - accuracy: 0.0969\n",
      "Epoch 13/30\n",
      "1875/1875 [==============================] - 4s 2ms/step - loss: 2.3021 - accuracy: 0.1008\n",
      "Epoch 14/30\n",
      "1875/1875 [==============================] - 4s 2ms/step - loss: 2.3023 - accuracy: 0.0978\n",
      "Epoch 15/30\n",
      "1875/1875 [==============================] - 4s 2ms/step - loss: 2.2967 - accuracy: 0.1024\n",
      "Epoch 16/30\n",
      "1875/1875 [==============================] - 5s 2ms/step - loss: 2.2633 - accuracy: 0.1200\n",
      "Epoch 17/30\n",
      "1875/1875 [==============================] - 4s 2ms/step - loss: 2.2369 - accuracy: 0.1316\n",
      "Epoch 18/30\n",
      "1875/1875 [==============================] - 4s 2ms/step - loss: 2.2517 - accuracy: 0.1244\n",
      "Epoch 19/30\n",
      "1875/1875 [==============================] - 4s 2ms/step - loss: 2.2295 - accuracy: 0.1334\n",
      "Epoch 20/30\n",
      "1875/1875 [==============================] - 4s 2ms/step - loss: 2.2243 - accuracy: 0.1360\n",
      "Epoch 21/30\n",
      "1875/1875 [==============================] - 4s 2ms/step - loss: 2.2112 - accuracy: 0.1407\n",
      "Epoch 22/30\n",
      "1875/1875 [==============================] - 6s 3ms/step - loss: 2.1932 - accuracy: 0.1490\n",
      "Epoch 23/30\n",
      "1875/1875 [==============================] - 5s 3ms/step - loss: 2.3227 - accuracy: 0.1120\n",
      "Epoch 24/30\n",
      "1875/1875 [==============================] - 4s 2ms/step - loss: 2.3030 - accuracy: 0.0985\n",
      "Epoch 25/30\n",
      "1875/1875 [==============================] - 4s 2ms/step - loss: 2.3025 - accuracy: 0.0989\n",
      "Epoch 26/30\n",
      "1875/1875 [==============================] - 4s 2ms/step - loss: 2.3024 - accuracy: 0.0980\n",
      "Epoch 27/30\n",
      "1875/1875 [==============================] - 4s 2ms/step - loss: 2.3024 - accuracy: 0.1002\n",
      "Epoch 28/30\n",
      "1875/1875 [==============================] - 4s 2ms/step - loss: 2.3024 - accuracy: 0.0993\n",
      "Epoch 29/30\n",
      "1875/1875 [==============================] - 4s 2ms/step - loss: 2.3024 - accuracy: 0.0994\n",
      "Epoch 30/30\n",
      "1875/1875 [==============================] - 4s 2ms/step - loss: 2.3024 - accuracy: 0.0981\n"
     ]
    }
   ],
   "source": [
    "history=model.fit(x_train,y_train,epochs=30)"
   ]
  },
  {
   "cell_type": "code",
   "execution_count": 63,
   "id": "f9ca2332",
   "metadata": {},
   "outputs": [
    {
     "data": {
      "image/png": "[encoded data removed]",
      "text/plain": [
       "<Figure size 800x500 with 1 Axes>"
      ]
     },
     "metadata": {},
     "output_type": "display_data"
    }
   ],
   "source": [
    "pd.DataFrame(history.history).plot(figsize=(8,5))\n",
    "plt.grid(True)\n",
    "plt.show()"
   ]
  },
  {
   "cell_type": "markdown",
   "id": "9a162076",
   "metadata": {},
   "source": [
    "# Use validation set for better training"
   ]
  },
  {
   "cell_type": "code",
   "execution_count": 74,
   "id": "77062a31",
   "metadata": {},
   "outputs": [
    {
     "name": "stdout",
     "output_type": "stream",
     "text": [
      "Epoch 1/30\n",
      "1407/1407 [==============================] - 4s 3ms/step - loss: 0.7758 - accuracy: 0.7532 - val_loss: 69.5907 - val_accuracy: 0.7776\n",
      "Epoch 2/30\n",
      "1407/1407 [==============================] - 3s 2ms/step - loss: 0.5323 - accuracy: 0.8218 - val_loss: 73.0625 - val_accuracy: 0.7900\n",
      "Epoch 3/30\n",
      "1407/1407 [==============================] - 3s 2ms/step - loss: 0.4826 - accuracy: 0.8375 - val_loss: 69.3091 - val_accuracy: 0.8067\n",
      "Epoch 4/30\n",
      "1407/1407 [==============================] - 3s 2ms/step - loss: 0.4561 - accuracy: 0.8446 - val_loss: 84.2800 - val_accuracy: 0.7740\n",
      "Epoch 5/30\n",
      "1407/1407 [==============================] - 4s 3ms/step - loss: 0.4369 - accuracy: 0.8491 - val_loss: 88.5627 - val_accuracy: 0.7972\n",
      "Epoch 6/30\n",
      "1407/1407 [==============================] - 3s 2ms/step - loss: 0.4225 - accuracy: 0.8538 - val_loss: 87.9448 - val_accuracy: 0.7961\n",
      "Epoch 7/30\n",
      "1407/1407 [==============================] - 3s 2ms/step - loss: 0.4097 - accuracy: 0.8578 - val_loss: 64.5490 - val_accuracy: 0.8190\n",
      "Epoch 8/30\n",
      "1407/1407 [==============================] - 3s 2ms/step - loss: 0.3996 - accuracy: 0.8621 - val_loss: 90.2255 - val_accuracy: 0.7970\n",
      "Epoch 9/30\n",
      "1407/1407 [==============================] - 3s 2ms/step - loss: 0.3897 - accuracy: 0.8642 - val_loss: 69.1118 - val_accuracy: 0.8238\n",
      "Epoch 10/30\n",
      "1407/1407 [==============================] - 3s 2ms/step - loss: 0.3807 - accuracy: 0.8673 - val_loss: 85.3610 - val_accuracy: 0.8034\n",
      "Epoch 11/30\n",
      "1407/1407 [==============================] - 3s 2ms/step - loss: 0.3734 - accuracy: 0.8689 - val_loss: 65.5251 - val_accuracy: 0.8289\n",
      "Epoch 12/30\n",
      "1407/1407 [==============================] - 3s 2ms/step - loss: 0.3667 - accuracy: 0.8726 - val_loss: 90.4924 - val_accuracy: 0.8014\n",
      "Epoch 13/30\n",
      "1407/1407 [==============================] - 3s 2ms/step - loss: 0.3596 - accuracy: 0.8752 - val_loss: 84.6890 - val_accuracy: 0.8104\n",
      "Epoch 14/30\n",
      "1407/1407 [==============================] - 3s 2ms/step - loss: 0.3534 - accuracy: 0.8757 - val_loss: 86.6333 - val_accuracy: 0.8002\n",
      "Epoch 15/30\n",
      "1407/1407 [==============================] - 3s 2ms/step - loss: 0.3488 - accuracy: 0.8776 - val_loss: 87.8504 - val_accuracy: 0.7909\n",
      "Epoch 16/30\n",
      "1407/1407 [==============================] - 3s 2ms/step - loss: 0.3434 - accuracy: 0.8796 - val_loss: 72.9401 - val_accuracy: 0.8208\n",
      "Epoch 17/30\n",
      "1407/1407 [==============================] - 3s 2ms/step - loss: 0.3377 - accuracy: 0.8810 - val_loss: 63.6780 - val_accuracy: 0.8357\n",
      "Epoch 18/30\n",
      "1407/1407 [==============================] - 3s 2ms/step - loss: 0.3331 - accuracy: 0.8828 - val_loss: 85.5837 - val_accuracy: 0.8072\n",
      "Epoch 19/30\n",
      "1407/1407 [==============================] - 3s 2ms/step - loss: 0.3287 - accuracy: 0.8842 - val_loss: 67.1101 - val_accuracy: 0.8279\n",
      "Epoch 20/30\n",
      "1407/1407 [==============================] - 4s 3ms/step - loss: 0.3240 - accuracy: 0.8856 - val_loss: 70.9088 - val_accuracy: 0.8270\n",
      "Epoch 21/30\n",
      "1407/1407 [==============================] - 4s 3ms/step - loss: 0.3197 - accuracy: 0.8874 - val_loss: 78.4190 - val_accuracy: 0.8106\n",
      "Epoch 22/30\n",
      "1407/1407 [==============================] - 4s 3ms/step - loss: 0.3156 - accuracy: 0.8886 - val_loss: 77.6751 - val_accuracy: 0.8173\n",
      "Epoch 23/30\n",
      "1407/1407 [==============================] - 4s 3ms/step - loss: 0.3113 - accuracy: 0.8899 - val_loss: 68.5467 - val_accuracy: 0.8321\n",
      "Epoch 24/30\n",
      "1407/1407 [==============================] - 4s 3ms/step - loss: 0.3074 - accuracy: 0.8922 - val_loss: 64.6621 - val_accuracy: 0.8355\n",
      "Epoch 25/30\n",
      "1407/1407 [==============================] - 4s 3ms/step - loss: 0.3034 - accuracy: 0.8931 - val_loss: 70.1579 - val_accuracy: 0.8259\n",
      "Epoch 26/30\n",
      "1407/1407 [==============================] - 4s 3ms/step - loss: 0.3012 - accuracy: 0.8929 - val_loss: 67.1764 - val_accuracy: 0.8331\n",
      "Epoch 27/30\n",
      "1407/1407 [==============================] - 4s 3ms/step - loss: 0.2966 - accuracy: 0.8948 - val_loss: 76.6761 - val_accuracy: 0.8282\n",
      "Epoch 28/30\n",
      "1407/1407 [==============================] - 4s 3ms/step - loss: 0.2930 - accuracy: 0.8965 - val_loss: 84.4565 - val_accuracy: 0.8090\n",
      "Epoch 29/30\n",
      "1407/1407 [==============================] - 5s 3ms/step - loss: 0.2904 - accuracy: 0.8973 - val_loss: 65.9772 - val_accuracy: 0.8377\n",
      "Epoch 30/30\n",
      "1407/1407 [==============================] - 4s 3ms/step - loss: 0.2874 - accuracy: 0.8983 - val_loss: 85.0613 - val_accuracy: 0.8064\n"
     ]
    }
   ],
   "source": [
    "model1=keras.models.Sequential() # simplest kind of keras model requires to composed a single stack of layers, connected sequentially\n",
    "model1.add(keras.layers.Flatten(input_shape=[28,28])) #include first layer/input layer, specify number of inputs\n",
    "model1.add(keras.layers.Dense(300,activation='relu')) #a dense hidden layer with 300 neuron and relu activation function\n",
    "model1.add(keras.layers.Dense(10,activation=\"softmax\")) #a dense output layer with 10 neuron and SoftMax activation function\n",
    "model1.compile(loss=\"sparse_categorical_crossentropy\",optimizer='sgd',metrics=[\"accuracy\"])\n",
    "history=model1.fit(x_train,y_train,epochs=30,validation_data=(x_test,y_test))"
   ]
  },
  {
   "cell_type": "code",
   "execution_count": 75,
   "id": "e90bb26d",
   "metadata": {},
   "outputs": [
    {
     "data": {
      "image/png": "[encoded data removed]",
      "text/plain": [
       "<Figure size 800x500 with 1 Axes>"
      ]
     },
     "metadata": {},
     "output_type": "display_data"
    }
   ],
   "source": [
    "pd.DataFrame(history.history).plot(figsize=(8,5))\n",
    "plt.grid(True)\n",
    "plt.gca().set_ylim(0,1)\n",
    "plt.show()"
   ]
  },
  {
   "cell_type": "markdown",
   "id": "8f619b09",
   "metadata": {},
   "source": [
    "#  Lets add one more hidden layer with 100 neuron and check model performance"
   ]
  },
  {
   "cell_type": "code",
   "execution_count": 79,
   "id": "0f2a6eb4",
   "metadata": {},
   "outputs": [
    {
     "name": "stdout",
     "output_type": "stream",
     "text": [
      "Epoch 1/30\n",
      "1407/1407 [==============================] - 4s 3ms/step - loss: 0.7753 - accuracy: 0.7538 - val_loss: 0.5670 - val_accuracy: 0.8058\n",
      "Epoch 2/30\n",
      "1407/1407 [==============================] - 4s 3ms/step - loss: 0.5056 - accuracy: 0.8256 - val_loss: 0.4905 - val_accuracy: 0.8305\n",
      "Epoch 3/30\n",
      "1407/1407 [==============================] - 4s 3ms/step - loss: 0.4556 - accuracy: 0.8418 - val_loss: 0.5461 - val_accuracy: 0.7999\n",
      "Epoch 4/30\n",
      "1407/1407 [==============================] - 4s 3ms/step - loss: 0.4293 - accuracy: 0.8492 - val_loss: 0.5263 - val_accuracy: 0.8017\n",
      "Epoch 5/30\n",
      "1407/1407 [==============================] - 4s 3ms/step - loss: 0.4077 - accuracy: 0.8571 - val_loss: 0.4367 - val_accuracy: 0.8440\n",
      "Epoch 6/30\n",
      "1407/1407 [==============================] - 4s 3ms/step - loss: 0.3921 - accuracy: 0.8624 - val_loss: 0.4192 - val_accuracy: 0.8501\n",
      "Epoch 7/30\n",
      "1407/1407 [==============================] - 4s 3ms/step - loss: 0.3778 - accuracy: 0.8670 - val_loss: 0.4202 - val_accuracy: 0.8483\n",
      "Epoch 8/30\n",
      "1407/1407 [==============================] - 4s 3ms/step - loss: 0.3677 - accuracy: 0.8705 - val_loss: 0.4162 - val_accuracy: 0.8506\n",
      "Epoch 9/30\n",
      "1407/1407 [==============================] - 5s 3ms/step - loss: 0.3569 - accuracy: 0.8730 - val_loss: 0.4154 - val_accuracy: 0.8506\n",
      "Epoch 10/30\n",
      "1407/1407 [==============================] - 5s 4ms/step - loss: 0.3459 - accuracy: 0.8769 - val_loss: 0.4049 - val_accuracy: 0.8540\n",
      "Epoch 11/30\n",
      "1407/1407 [==============================] - 6s 4ms/step - loss: 0.3376 - accuracy: 0.8802 - val_loss: 0.4169 - val_accuracy: 0.8511\n",
      "Epoch 12/30\n",
      "1407/1407 [==============================] - 5s 4ms/step - loss: 0.3299 - accuracy: 0.8828 - val_loss: 0.4023 - val_accuracy: 0.8531\n",
      "Epoch 13/30\n",
      "1407/1407 [==============================] - 5s 4ms/step - loss: 0.3211 - accuracy: 0.8853 - val_loss: 0.4082 - val_accuracy: 0.8575\n",
      "Epoch 14/30\n",
      "1407/1407 [==============================] - 5s 4ms/step - loss: 0.3144 - accuracy: 0.8882 - val_loss: 0.3846 - val_accuracy: 0.8633\n",
      "Epoch 15/30\n",
      "1407/1407 [==============================] - 5s 3ms/step - loss: 0.3076 - accuracy: 0.8902 - val_loss: 0.3810 - val_accuracy: 0.8614\n",
      "Epoch 16/30\n",
      "1407/1407 [==============================] - 5s 4ms/step - loss: 0.3011 - accuracy: 0.8911 - val_loss: 0.3634 - val_accuracy: 0.8711\n",
      "Epoch 17/30\n",
      "1407/1407 [==============================] - 5s 4ms/step - loss: 0.2950 - accuracy: 0.8938 - val_loss: 0.4173 - val_accuracy: 0.8521\n",
      "Epoch 18/30\n",
      "1407/1407 [==============================] - 5s 3ms/step - loss: 0.2882 - accuracy: 0.8959 - val_loss: 0.3659 - val_accuracy: 0.8710\n",
      "Epoch 19/30\n",
      "1407/1407 [==============================] - 5s 4ms/step - loss: 0.2841 - accuracy: 0.8983 - val_loss: 0.3657 - val_accuracy: 0.8699\n",
      "Epoch 20/30\n",
      "1407/1407 [==============================] - 5s 4ms/step - loss: 0.2782 - accuracy: 0.8997 - val_loss: 0.3574 - val_accuracy: 0.8737\n",
      "Epoch 21/30\n",
      "1407/1407 [==============================] - 5s 4ms/step - loss: 0.2725 - accuracy: 0.9022 - val_loss: 0.3865 - val_accuracy: 0.8641\n",
      "Epoch 22/30\n",
      "1407/1407 [==============================] - 5s 4ms/step - loss: 0.2680 - accuracy: 0.9033 - val_loss: 0.4752 - val_accuracy: 0.8298\n",
      "Epoch 23/30\n",
      "1407/1407 [==============================] - 5s 4ms/step - loss: 0.2645 - accuracy: 0.9057 - val_loss: 0.3627 - val_accuracy: 0.8717\n",
      "Epoch 24/30\n",
      "1407/1407 [==============================] - 5s 4ms/step - loss: 0.2583 - accuracy: 0.9079 - val_loss: 0.3601 - val_accuracy: 0.8710\n",
      "Epoch 25/30\n",
      "1407/1407 [==============================] - 5s 4ms/step - loss: 0.2542 - accuracy: 0.9086 - val_loss: 0.4021 - val_accuracy: 0.8576\n",
      "Epoch 26/30\n",
      "1407/1407 [==============================] - 6s 4ms/step - loss: 0.2513 - accuracy: 0.9111 - val_loss: 0.4703 - val_accuracy: 0.8288\n",
      "Epoch 27/30\n",
      "1407/1407 [==============================] - 5s 4ms/step - loss: 0.2466 - accuracy: 0.9106 - val_loss: 0.3454 - val_accuracy: 0.8760\n",
      "Epoch 28/30\n",
      "1407/1407 [==============================] - 6s 4ms/step - loss: 0.2416 - accuracy: 0.9139 - val_loss: 0.3438 - val_accuracy: 0.8800\n",
      "Epoch 29/30\n",
      "1407/1407 [==============================] - 5s 4ms/step - loss: 0.2369 - accuracy: 0.9149 - val_loss: 0.3589 - val_accuracy: 0.8758\n",
      "Epoch 30/30\n",
      "1407/1407 [==============================] - 5s 4ms/step - loss: 0.2336 - accuracy: 0.9158 - val_loss: 0.3649 - val_accuracy: 0.8755\n"
     ]
    }
   ],
   "source": [
    "model1=keras.models.Sequential() # simplest kind of keras model requires to composed a single stack of layers, connected sequentially\n",
    "model1.add(keras.layers.Flatten(input_shape=[28,28])) #include first layer/input layer, specify number of inputs\n",
    "model1.add(keras.layers.Dense(300,activation='relu')) #a dense hidden layer with 300 neuron and relu activation function\n",
    "model1.add(keras.layers.Dense(300,activation='relu'))\n",
    "model1.add(keras.layers.Dense(10,activation=\"softmax\")) #a dense output layer with 10 neuron and SoftMax activation function\n",
    "model1.compile(loss=\"sparse_categorical_crossentropy\",optimizer='sgd',metrics=[\"accuracy\"])\n",
    "history=model1.fit(x_train,y_train,epochs=30,validation_data=(x_test,y_test))"
   ]
  },
  {
   "cell_type": "code",
   "execution_count": 77,
   "id": "9642287e",
   "metadata": {},
   "outputs": [
    {
     "data": {
      "image/png": "[encoded data removed]",
      "text/plain": [
       "<Figure size 800x500 with 1 Axes>"
      ]
     },
     "metadata": {},
     "output_type": "display_data"
    }
   ],
   "source": [
    "pd.DataFrame(history.history).plot(figsize=(8,5))\n",
    "plt.grid(True)\n",
    "plt.gca().set_ylim(0,1)\n",
    "plt.show()"
   ]
  },
  {
   "cell_type": "code",
   "execution_count": 81,
   "id": "59de710e",
   "metadata": {},
   "outputs": [
    {
     "name": "stdout",
     "output_type": "stream",
     "text": [
      "469/469 [==============================] - 1s 2ms/step - loss: 0.3372 - accuracy: 0.8818\n"
     ]
    },
    {
     "data": {
      "text/plain": [
       "[0.3371959924697876, 0.8817999958992004]"
      ]
     },
     "execution_count": 81,
     "metadata": {},
     "output_type": "execute_result"
    }
   ],
   "source": [
    "model1.evaluate(x_val,y_val)"
   ]
  },
  {
   "cell_type": "markdown",
   "id": "8462dd27",
   "metadata": {},
   "source": [
    "# Lets chect the prediction"
   ]
  },
  {
   "cell_type": "code",
   "execution_count": 83,
   "id": "f7b79d46",
   "metadata": {},
   "outputs": [
    {
     "name": "stdout",
     "output_type": "stream",
     "text": [
      "1/1 [==============================] - 0s 54ms/step\n",
      "[[0.   0.   0.73 0.   0.24 0.   0.02 0.   0.   0.  ]\n",
      " [0.   0.   0.   0.   0.   0.   0.   0.01 0.   0.99]\n",
      " [0.5  0.03 0.28 0.01 0.02 0.   0.12 0.   0.04 0.  ]\n",
      " [0.   0.   0.   0.   0.   0.   0.   0.   0.   1.  ]\n",
      " [0.52 0.04 0.02 0.05 0.   0.   0.37 0.   0.   0.  ]]\n"
     ]
    }
   ],
   "source": [
    "new_obsv=x_val[:5]\n",
    "y_prob=model1.predict(new_obsv)\n",
    "print(y_prob.round(2))"
   ]
  },
  {
   "cell_type": "code",
   "execution_count": 86,
   "id": "27bcb7e2",
   "metadata": {},
   "outputs": [
    {
     "data": {
      "text/plain": [
       "<tensorflow.python.eager.polymorphic_function.polymorphic_function.Function at 0x22a45252e20>"
      ]
     },
     "execution_count": 86,
     "metadata": {},
     "output_type": "execute_result"
    }
   ],
   "source": [
    "model1.predict_function"
   ]
  },
  {
   "cell_type": "code",
   "execution_count": null,
   "id": "f408b6a8",
   "metadata": {},
   "outputs": [],
   "source": []
  }
 ],
 "metadata": {
  "kernelspec": {
   "display_name": "Python 3 (ipykernel)",
   "language": "python",
   "name": "python3"
  },
  "language_info": {
   "codemirror_mode": {
    "name": "ipython",
    "version": 3
   },
   "file_extension": ".py",
   "mimetype": "text/x-python",
   "name": "python",
   "nbconvert_exporter": "python",
   "pygments_lexer": "ipython3",
   "version": "3.8.6rc1"
  }
 },
 "nbformat": 4,
 "nbformat_minor": 5
}
