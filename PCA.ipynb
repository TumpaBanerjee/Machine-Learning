{
 "cells": [
  {
   "cell_type": "markdown",
   "id": "82907a23",
   "metadata": {},
   "source": [
    "# Import libraries"
   ]
  },
  {
   "cell_type": "code",
   "execution_count": null,
   "id": "9ade1335",
   "metadata": {},
   "outputs": [],
   "source": [
    "import pandas as pd\n",
    "import numpy as np\n",
    "import matplotlib.pyplot as plt\n",
    "import seaborn as sns"
   ]
  },
  {
   "cell_type": "markdown",
   "id": "c4ed3fad",
   "metadata": {},
   "source": [
    "# Import dataset"
   ]
  },
  {
   "cell_type": "code",
   "execution_count": 2,
   "id": "82fd3afc",
   "metadata": {},
   "outputs": [],
   "source": [
    "data=pd.read_table('C:\\MY DRIVE\\Personal\\dataset\\All_Data\\All_Data\\P339.txt')"
   ]
  },
  {
   "cell_type": "code",
   "execution_count": 3,
   "id": "25151593",
   "metadata": {},
   "outputs": [
    {
     "data": {
      "text/html": [
       "<div>\n",
       "<style scoped>\n",
       "    .dataframe tbody tr th:only-of-type {\n",
       "        vertical-align: middle;\n",
       "    }\n",
       "\n",
       "    .dataframe tbody tr th {\n",
       "        vertical-align: top;\n",
       "    }\n",
       "\n",
       "    .dataframe thead th {\n",
       "        text-align: right;\n",
       "    }\n",
       "</style>\n",
       "<table border=\"1\" class=\"dataframe\">\n",
       "  <thead>\n",
       "    <tr style=\"text-align: right;\">\n",
       "      <th></th>\n",
       "      <th>Y</th>\n",
       "      <th>X1</th>\n",
       "      <th>X2</th>\n",
       "      <th>X3</th>\n",
       "    </tr>\n",
       "  </thead>\n",
       "  <tbody>\n",
       "    <tr>\n",
       "      <th>0</th>\n",
       "      <td>0</td>\n",
       "      <td>-62.8</td>\n",
       "      <td>-89.5</td>\n",
       "      <td>1.7</td>\n",
       "    </tr>\n",
       "    <tr>\n",
       "      <th>1</th>\n",
       "      <td>0</td>\n",
       "      <td>3.3</td>\n",
       "      <td>-3.5</td>\n",
       "      <td>1.1</td>\n",
       "    </tr>\n",
       "    <tr>\n",
       "      <th>2</th>\n",
       "      <td>0</td>\n",
       "      <td>-120.8</td>\n",
       "      <td>-103.2</td>\n",
       "      <td>2.5</td>\n",
       "    </tr>\n",
       "    <tr>\n",
       "      <th>3</th>\n",
       "      <td>0</td>\n",
       "      <td>-18.1</td>\n",
       "      <td>-28.8</td>\n",
       "      <td>1.1</td>\n",
       "    </tr>\n",
       "    <tr>\n",
       "      <th>4</th>\n",
       "      <td>0</td>\n",
       "      <td>-3.8</td>\n",
       "      <td>-50.6</td>\n",
       "      <td>0.9</td>\n",
       "    </tr>\n",
       "    <tr>\n",
       "      <th>...</th>\n",
       "      <td>...</td>\n",
       "      <td>...</td>\n",
       "      <td>...</td>\n",
       "      <td>...</td>\n",
       "    </tr>\n",
       "    <tr>\n",
       "      <th>61</th>\n",
       "      <td>1</td>\n",
       "      <td>53.1</td>\n",
       "      <td>7.1</td>\n",
       "      <td>1.9</td>\n",
       "    </tr>\n",
       "    <tr>\n",
       "      <th>62</th>\n",
       "      <td>1</td>\n",
       "      <td>39.8</td>\n",
       "      <td>13.8</td>\n",
       "      <td>1.2</td>\n",
       "    </tr>\n",
       "    <tr>\n",
       "      <th>63</th>\n",
       "      <td>1</td>\n",
       "      <td>59.5</td>\n",
       "      <td>7.0</td>\n",
       "      <td>2.0</td>\n",
       "    </tr>\n",
       "    <tr>\n",
       "      <th>64</th>\n",
       "      <td>1</td>\n",
       "      <td>16.3</td>\n",
       "      <td>20.4</td>\n",
       "      <td>1.0</td>\n",
       "    </tr>\n",
       "    <tr>\n",
       "      <th>65</th>\n",
       "      <td>1</td>\n",
       "      <td>21.7</td>\n",
       "      <td>-7.8</td>\n",
       "      <td>1.6</td>\n",
       "    </tr>\n",
       "  </tbody>\n",
       "</table>\n",
       "<p>66 rows × 4 columns</p>\n",
       "</div>"
      ],
      "text/plain": [
       "    Y     X1     X2   X3 \n",
       "0    0  -62.8  -89.5  1.7\n",
       "1    0    3.3   -3.5  1.1\n",
       "2    0 -120.8 -103.2  2.5\n",
       "3    0  -18.1  -28.8  1.1\n",
       "4    0   -3.8  -50.6  0.9\n",
       "..  ..    ...    ...  ...\n",
       "61   1   53.1    7.1  1.9\n",
       "62   1   39.8   13.8  1.2\n",
       "63   1   59.5    7.0  2.0\n",
       "64   1   16.3   20.4  1.0\n",
       "65   1   21.7   -7.8  1.6\n",
       "\n",
       "[66 rows x 4 columns]"
      ]
     },
     "execution_count": 3,
     "metadata": {},
     "output_type": "execute_result"
    }
   ],
   "source": [
    "data"
   ]
  },
  {
   "cell_type": "markdown",
   "id": "80b78490",
   "metadata": {},
   "source": [
    "# Seperate predictor and target variable"
   ]
  },
  {
   "cell_type": "code",
   "execution_count": 5,
   "id": "5d5d66f8",
   "metadata": {},
   "outputs": [],
   "source": [
    "X=data.iloc[:,1:]\n",
    "Y=data.iloc[:,0]"
   ]
  },
  {
   "cell_type": "markdown",
   "id": "8c9a17d1",
   "metadata": {},
   "source": [
    "# Standarize the dataset"
   ]
  },
  {
   "cell_type": "code",
   "execution_count": 6,
   "id": "d0eca82b",
   "metadata": {},
   "outputs": [],
   "source": [
    "X_mean=X.mean()\n",
    "X_std=X.std()\n",
    "X_normal=(X-X_mean)/X_std"
   ]
  },
  {
   "cell_type": "code",
   "execution_count": 7,
   "id": "7f425d58",
   "metadata": {},
   "outputs": [
    {
     "data": {
      "text/html": [
       "<div>\n",
       "<style scoped>\n",
       "    .dataframe tbody tr th:only-of-type {\n",
       "        vertical-align: middle;\n",
       "    }\n",
       "\n",
       "    .dataframe tbody tr th {\n",
       "        vertical-align: top;\n",
       "    }\n",
       "\n",
       "    .dataframe thead th {\n",
       "        text-align: right;\n",
       "    }\n",
       "</style>\n",
       "<table border=\"1\" class=\"dataframe\">\n",
       "  <thead>\n",
       "    <tr style=\"text-align: right;\">\n",
       "      <th></th>\n",
       "      <th>X1</th>\n",
       "      <th>X2</th>\n",
       "      <th>X3</th>\n",
       "    </tr>\n",
       "  </thead>\n",
       "  <tbody>\n",
       "    <tr>\n",
       "      <th>0</th>\n",
       "      <td>-0.690959</td>\n",
       "      <td>-1.855309</td>\n",
       "      <td>-0.019874</td>\n",
       "    </tr>\n",
       "    <tr>\n",
       "      <th>1</th>\n",
       "      <td>0.237914</td>\n",
       "      <td>0.107878</td>\n",
       "      <td>-0.582014</td>\n",
       "    </tr>\n",
       "    <tr>\n",
       "      <th>2</th>\n",
       "      <td>-1.506005</td>\n",
       "      <td>-2.168049</td>\n",
       "      <td>0.729646</td>\n",
       "    </tr>\n",
       "    <tr>\n",
       "      <th>3</th>\n",
       "      <td>-0.062811</td>\n",
       "      <td>-0.469664</td>\n",
       "      <td>-0.582014</td>\n",
       "    </tr>\n",
       "    <tr>\n",
       "      <th>4</th>\n",
       "      <td>0.138141</td>\n",
       "      <td>-0.967309</td>\n",
       "      <td>-0.769394</td>\n",
       "    </tr>\n",
       "    <tr>\n",
       "      <th>...</th>\n",
       "      <td>...</td>\n",
       "      <td>...</td>\n",
       "      <td>...</td>\n",
       "    </tr>\n",
       "    <tr>\n",
       "      <th>61</th>\n",
       "      <td>0.937730</td>\n",
       "      <td>0.349853</td>\n",
       "      <td>0.167506</td>\n",
       "    </tr>\n",
       "    <tr>\n",
       "      <th>62</th>\n",
       "      <td>0.750831</td>\n",
       "      <td>0.502799</td>\n",
       "      <td>-0.488324</td>\n",
       "    </tr>\n",
       "    <tr>\n",
       "      <th>63</th>\n",
       "      <td>1.027666</td>\n",
       "      <td>0.347570</td>\n",
       "      <td>0.261196</td>\n",
       "    </tr>\n",
       "    <tr>\n",
       "      <th>64</th>\n",
       "      <td>0.420596</td>\n",
       "      <td>0.653462</td>\n",
       "      <td>-0.675704</td>\n",
       "    </tr>\n",
       "    <tr>\n",
       "      <th>65</th>\n",
       "      <td>0.496480</td>\n",
       "      <td>0.009719</td>\n",
       "      <td>-0.113564</td>\n",
       "    </tr>\n",
       "  </tbody>\n",
       "</table>\n",
       "<p>66 rows × 3 columns</p>\n",
       "</div>"
      ],
      "text/plain": [
       "         X1        X2        X3 \n",
       "0  -0.690959 -1.855309 -0.019874\n",
       "1   0.237914  0.107878 -0.582014\n",
       "2  -1.506005 -2.168049  0.729646\n",
       "3  -0.062811 -0.469664 -0.582014\n",
       "4   0.138141 -0.967309 -0.769394\n",
       "..       ...       ...       ...\n",
       "61  0.937730  0.349853  0.167506\n",
       "62  0.750831  0.502799 -0.488324\n",
       "63  1.027666  0.347570  0.261196\n",
       "64  0.420596  0.653462 -0.675704\n",
       "65  0.496480  0.009719 -0.113564\n",
       "\n",
       "[66 rows x 3 columns]"
      ]
     },
     "execution_count": 7,
     "metadata": {},
     "output_type": "execute_result"
    }
   ],
   "source": [
    "X_normal"
   ]
  },
  {
   "cell_type": "markdown",
   "id": "e3f0a31c",
   "metadata": {},
   "source": [
    "# Calculate covariance matrix"
   ]
  },
  {
   "cell_type": "code",
   "execution_count": 11,
   "id": "ece386fb",
   "metadata": {},
   "outputs": [
    {
     "data": {
      "image/png": "[encoded data removed]",
      "text/plain": [
       "<Figure size 640x480 with 2 Axes>"
      ]
     },
     "metadata": {},
     "output_type": "display_data"
    }
   ],
   "source": [
    "Z=X_normal.cov()\n",
    "sns.heatmap(Z)\n",
    "plt.show()"
   ]
  },
  {
   "cell_type": "code",
   "execution_count": 36,
   "id": "834c13cc",
   "metadata": {},
   "outputs": [
    {
     "data": {
      "text/html": [
       "<div>\n",
       "<style scoped>\n",
       "    .dataframe tbody tr th:only-of-type {\n",
       "        vertical-align: middle;\n",
       "    }\n",
       "\n",
       "    .dataframe tbody tr th {\n",
       "        vertical-align: top;\n",
       "    }\n",
       "\n",
       "    .dataframe thead th {\n",
       "        text-align: right;\n",
       "    }\n",
       "</style>\n",
       "<table border=\"1\" class=\"dataframe\">\n",
       "  <thead>\n",
       "    <tr style=\"text-align: right;\">\n",
       "      <th></th>\n",
       "      <th>X1</th>\n",
       "      <th>X2</th>\n",
       "      <th>X3</th>\n",
       "    </tr>\n",
       "  </thead>\n",
       "  <tbody>\n",
       "    <tr>\n",
       "      <th>X1</th>\n",
       "      <td>1.000000</td>\n",
       "      <td>0.640876</td>\n",
       "      <td>0.046741</td>\n",
       "    </tr>\n",
       "    <tr>\n",
       "      <th>X2</th>\n",
       "      <td>0.640876</td>\n",
       "      <td>1.000000</td>\n",
       "      <td>-0.350069</td>\n",
       "    </tr>\n",
       "    <tr>\n",
       "      <th>X3</th>\n",
       "      <td>0.046741</td>\n",
       "      <td>-0.350069</td>\n",
       "      <td>1.000000</td>\n",
       "    </tr>\n",
       "  </tbody>\n",
       "</table>\n",
       "</div>"
      ],
      "text/plain": [
       "          X1        X2        X3 \n",
       "X1   1.000000  0.640876  0.046741\n",
       "X2   0.640876  1.000000 -0.350069\n",
       "X3   0.046741 -0.350069  1.000000"
      ]
     },
     "execution_count": 36,
     "metadata": {},
     "output_type": "execute_result"
    }
   ],
   "source": [
    "Z"
   ]
  },
  {
   "cell_type": "markdown",
   "id": "30b5d211",
   "metadata": {},
   "source": [
    "# Calculate eigen values and eigen vectors of the covariance matrix"
   ]
  },
  {
   "cell_type": "code",
   "execution_count": 12,
   "id": "f6b08a67",
   "metadata": {},
   "outputs": [
    {
     "name": "stdout",
     "output_type": "stream",
     "text": [
      "Eigen values:\n",
      " [0.24940267 1.71131587 1.03928146]\n",
      "Eigen values Shape: (3,)\n",
      "Eigen Vector Shape: (3, 3)\n"
     ]
    }
   ],
   "source": [
    "eigenvalues, eigenvectors = np.linalg.eig(Z)\n",
    "print('Eigen values:\\n', eigenvalues)\n",
    "print('Eigen values Shape:', eigenvalues.shape)\n",
    "print('Eigen Vector Shape:', eigenvectors.shape)"
   ]
  },
  {
   "cell_type": "code",
   "execution_count": 13,
   "id": "9fe8f86e",
   "metadata": {},
   "outputs": [
    {
     "data": {
      "text/plain": [
       "array([[ 0.61787894, -0.62471494,  0.47744828],\n",
       "       [-0.6971437 , -0.71608783, -0.03476891],\n",
       "       [-0.36361556,  0.31136708,  0.87797168]])"
      ]
     },
     "execution_count": 13,
     "metadata": {},
     "output_type": "execute_result"
    }
   ],
   "source": [
    "eigenvectors"
   ]
  },
  {
   "cell_type": "markdown",
   "id": "b2b10e97",
   "metadata": {},
   "source": [
    "# Sort the eigenvalues in descending order"
   ]
  },
  {
   "cell_type": "code",
   "execution_count": 14,
   "id": "6d726286",
   "metadata": {},
   "outputs": [
    {
     "data": {
      "text/plain": [
       "array([1, 2, 0], dtype=int64)"
      ]
     },
     "execution_count": 14,
     "metadata": {},
     "output_type": "execute_result"
    }
   ],
   "source": [
    "# Index the eigenvalues in descending order\n",
    "idx = eigenvalues.argsort()[::-1]\n",
    "idx"
   ]
  },
  {
   "cell_type": "code",
   "execution_count": 15,
   "id": "6e285879",
   "metadata": {},
   "outputs": [
    {
     "data": {
      "text/plain": [
       "array([1.71131587, 1.03928146, 0.24940267])"
      ]
     },
     "execution_count": 15,
     "metadata": {},
     "output_type": "execute_result"
    }
   ],
   "source": [
    "# Sort the eigenvalues in descending order\n",
    "eigenvalues = eigenvalues[idx]\n",
    "eigenvalues"
   ]
  },
  {
   "cell_type": "code",
   "execution_count": 16,
   "id": "773ab08b",
   "metadata": {},
   "outputs": [],
   "source": [
    "# sort the corresponding eigenvectors accordingly\n",
    "eigenvectors = eigenvectors[:,idx]"
   ]
  },
  {
   "cell_type": "code",
   "execution_count": 17,
   "id": "313d8f97",
   "metadata": {},
   "outputs": [
    {
     "data": {
      "text/plain": [
       "array([[-0.62471494,  0.47744828,  0.61787894],\n",
       "       [-0.71608783, -0.03476891, -0.6971437 ],\n",
       "       [ 0.31136708,  0.87797168, -0.36361556]])"
      ]
     },
     "execution_count": 17,
     "metadata": {},
     "output_type": "execute_result"
    }
   ],
   "source": [
    "eigenvectors"
   ]
  },
  {
   "cell_type": "markdown",
   "id": "edc554cf",
   "metadata": {},
   "source": [
    "# Variation preserved by the principal components"
   ]
  },
  {
   "cell_type": "code",
   "execution_count": 18,
   "id": "a4cbd865",
   "metadata": {},
   "outputs": [
    {
     "data": {
      "text/plain": [
       "array([0.57043862, 0.91686578, 1.        ])"
      ]
     },
     "execution_count": 18,
     "metadata": {},
     "output_type": "execute_result"
    }
   ],
   "source": [
    "explained_var = np.cumsum(eigenvalues) / np.sum(eigenvalues)\n",
    "explained_var"
   ]
  },
  {
   "cell_type": "markdown",
   "id": "42d2991b",
   "metadata": {},
   "source": [
    "First two principal component preserve more than 90% variability of the dataset"
   ]
  },
  {
   "cell_type": "markdown",
   "id": "b2e989a9",
   "metadata": {},
   "source": [
    "# Principal Components of the feature set"
   ]
  },
  {
   "cell_type": "code",
   "execution_count": 20,
   "id": "af5aa8fd",
   "metadata": {},
   "outputs": [],
   "source": [
    "pcs=eigenvectors[:,:2]\n",
    "pca_component=pd.DataFrame(pcs,columns=['PC1','PC2'])\n"
   ]
  },
  {
   "cell_type": "code",
   "execution_count": 21,
   "id": "92735c93",
   "metadata": {},
   "outputs": [
    {
     "data": {
      "text/html": [
       "<div>\n",
       "<style scoped>\n",
       "    .dataframe tbody tr th:only-of-type {\n",
       "        vertical-align: middle;\n",
       "    }\n",
       "\n",
       "    .dataframe tbody tr th {\n",
       "        vertical-align: top;\n",
       "    }\n",
       "\n",
       "    .dataframe thead th {\n",
       "        text-align: right;\n",
       "    }\n",
       "</style>\n",
       "<table border=\"1\" class=\"dataframe\">\n",
       "  <thead>\n",
       "    <tr style=\"text-align: right;\">\n",
       "      <th></th>\n",
       "      <th>PC1</th>\n",
       "      <th>PC2</th>\n",
       "    </tr>\n",
       "  </thead>\n",
       "  <tbody>\n",
       "    <tr>\n",
       "      <th>0</th>\n",
       "      <td>-0.624715</td>\n",
       "      <td>0.477448</td>\n",
       "    </tr>\n",
       "    <tr>\n",
       "      <th>1</th>\n",
       "      <td>-0.716088</td>\n",
       "      <td>-0.034769</td>\n",
       "    </tr>\n",
       "    <tr>\n",
       "      <th>2</th>\n",
       "      <td>0.311367</td>\n",
       "      <td>0.877972</td>\n",
       "    </tr>\n",
       "  </tbody>\n",
       "</table>\n",
       "</div>"
      ],
      "text/plain": [
       "        PC1       PC2\n",
       "0 -0.624715  0.477448\n",
       "1 -0.716088 -0.034769\n",
       "2  0.311367  0.877972"
      ]
     },
     "execution_count": 21,
     "metadata": {},
     "output_type": "execute_result"
    }
   ],
   "source": [
    "pca_component"
   ]
  },
  {
   "cell_type": "code",
   "execution_count": 22,
   "id": "50327dd4",
   "metadata": {},
   "outputs": [
    {
     "data": {
      "image/png": "[encoded data removed]",
      "text/plain": [
       "<Figure size 500x700 with 2 Axes>"
      ]
     },
     "metadata": {},
     "output_type": "display_data"
    }
   ],
   "source": [
    "# plotting heatmap\n",
    "plt.figure(figsize =(5, 7))\n",
    "sns.heatmap(pca_component)\n",
    "plt.title('PCA Component')\n",
    "plt.show()"
   ]
  },
  {
   "cell_type": "code",
   "execution_count": 25,
   "id": "cf0e43c9",
   "metadata": {},
   "outputs": [
    {
     "data": {
      "text/plain": [
       "(3, 2)"
      ]
     },
     "execution_count": 25,
     "metadata": {},
     "output_type": "execute_result"
    }
   ],
   "source": [
    "pca_component.shape"
   ]
  },
  {
   "cell_type": "code",
   "execution_count": 26,
   "id": "c0b1adc0",
   "metadata": {},
   "outputs": [
    {
     "data": {
      "text/plain": [
       "(66, 3)"
      ]
     },
     "execution_count": 26,
     "metadata": {},
     "output_type": "execute_result"
    }
   ],
   "source": [
    "X_normal.shape"
   ]
  },
  {
   "cell_type": "code",
   "execution_count": 29,
   "id": "c13d4eb7",
   "metadata": {},
   "outputs": [],
   "source": [
    "X_normal_pca=np.dot(X_normal,pca_component)"
   ]
  },
  {
   "cell_type": "code",
   "execution_count": 30,
   "id": "0f42e106",
   "metadata": {},
   "outputs": [
    {
     "data": {
      "text/plain": [
       "array([[ 1.75402842e+00, -2.82838415e-01],\n",
       "       [-4.07098522e-01, -4.01150898e-01],\n",
       "       [ 2.72052568e+00, -3.05005836e-03],\n",
       "       [ 1.94339404e-01, -5.24650596e-01],\n",
       "       [ 3.66815924e-01, -5.75918565e-01],\n",
       "       [ 1.19563776e+00, -2.98533535e-01],\n",
       "       [-1.87134732e-03, -6.30716488e-01],\n",
       "       [ 1.51885217e+00, -2.20410509e+00],\n",
       "       [-5.76822595e-01, -3.65359382e-01],\n",
       "       [ 9.87118502e-01, -7.90728046e-01],\n",
       "       [ 5.23292469e-01, -5.79826202e-01],\n",
       "       [ 1.35294363e+00, -1.34851225e+00],\n",
       "       [ 3.26453300e+00, -2.69313604e+00],\n",
       "       [ 1.33433550e-01,  3.80489720e-01],\n",
       "       [ 1.27893768e+00, -8.63613419e-01],\n",
       "       [ 7.40734399e+00,  3.15529753e+00],\n",
       "       [ 8.56486813e-01,  1.24909919e+00],\n",
       "       [-2.35052709e-01, -4.53746687e-01],\n",
       "       [ 2.25000458e-02, -3.43571951e-01],\n",
       "       [ 4.43634734e-02, -1.40057580e+00],\n",
       "       [ 2.45618955e-01, -7.72532196e-01],\n",
       "       [-2.28535587e-01, -7.06864365e-01],\n",
       "       [ 9.40025953e-01, -5.73534685e-01],\n",
       "       [ 9.87593487e-01, -1.11579179e+00],\n",
       "       [ 1.49770930e-01,  3.82204969e-01],\n",
       "       [ 7.30342286e-01,  9.42741961e-01],\n",
       "       [ 5.85322018e-01,  9.46743276e-03],\n",
       "       [-9.09815335e-02, -6.64507556e-01],\n",
       "       [-9.87291513e-02, -6.00037979e-01],\n",
       "       [-2.60064540e-02, -1.06186851e+00],\n",
       "       [-2.67677284e-01, -6.42403745e-01],\n",
       "       [-9.36849187e-02, -1.67956195e+00],\n",
       "       [-4.72071229e-01, -6.70880450e-01],\n",
       "       [-1.02257289e+00,  1.39303136e-02],\n",
       "       [-8.76117618e-01,  5.34628235e-01],\n",
       "       [-5.00666546e-03,  8.64729349e-01],\n",
       "       [-8.49235796e-01,  4.50306222e-01],\n",
       "       [-1.10962508e+00, -2.87257703e-01],\n",
       "       [-4.43039099e-01,  7.72906897e-01],\n",
       "       [-9.94136791e-01,  1.05636480e-01],\n",
       "       [-5.42754787e-01,  5.63361736e-01],\n",
       "       [-1.11729348e+00,  4.34524945e-01],\n",
       "       [-6.08643563e-01,  1.77185188e+00],\n",
       "       [-4.73335662e-02,  3.57076338e+00],\n",
       "       [-1.02644669e+00,  5.45881729e-01],\n",
       "       [-4.55299997e-01,  2.28041554e-01],\n",
       "       [-1.20352591e+00,  1.26152899e-01],\n",
       "       [-8.72234343e-01, -3.57077311e-01],\n",
       "       [-8.42615610e-01,  1.11997918e+00],\n",
       "       [ 3.10687780e-02,  2.07011266e+00],\n",
       "       [-7.34263944e-01,  4.30200392e-01],\n",
       "       [-4.17866277e-01, -3.52646500e-01],\n",
       "       [-4.88084628e-01, -4.46149440e-02],\n",
       "       [-6.82368958e-01,  4.17526891e-01],\n",
       "       [-9.66437672e-01,  3.60920610e-01],\n",
       "       [-6.96433034e-01,  6.73340818e-01],\n",
       "       [-7.35717579e-01, -1.54813152e-01],\n",
       "       [-9.79173180e-01,  4.22887111e-01],\n",
       "       [-1.24175059e+00, -8.34693140e-02],\n",
       "       [-9.19506178e-01,  5.34157112e-01],\n",
       "       [-1.04642545e+00,  4.72128533e-01],\n",
       "       [-7.84182974e-01,  5.82619204e-01],\n",
       "       [-9.81151259e-01, -8.77331847e-02],\n",
       "       [-8.09560802e-01,  7.07895622e-01],\n",
       "       [-9.41080946e-01, -4.15155785e-01],\n",
       "       [-3.52478248e-01,  1.36999995e-01]])"
      ]
     },
     "execution_count": 30,
     "metadata": {},
     "output_type": "execute_result"
    }
   ],
   "source": [
    "X_normal_pca"
   ]
  },
  {
   "cell_type": "markdown",
   "id": "f0f72d57",
   "metadata": {},
   "source": [
    "# Create new dataframe"
   ]
  },
  {
   "cell_type": "code",
   "execution_count": 32,
   "id": "d07f85f9",
   "metadata": {},
   "outputs": [],
   "source": [
    "X_transformed= pd.DataFrame(X_normal_pca,\n",
    "                     columns = ['PCA1','PCA2']\n",
    "                            )"
   ]
  },
  {
   "cell_type": "code",
   "execution_count": 33,
   "id": "a512f861",
   "metadata": {},
   "outputs": [
    {
     "data": {
      "text/html": [
       "<div>\n",
       "<style scoped>\n",
       "    .dataframe tbody tr th:only-of-type {\n",
       "        vertical-align: middle;\n",
       "    }\n",
       "\n",
       "    .dataframe tbody tr th {\n",
       "        vertical-align: top;\n",
       "    }\n",
       "\n",
       "    .dataframe thead th {\n",
       "        text-align: right;\n",
       "    }\n",
       "</style>\n",
       "<table border=\"1\" class=\"dataframe\">\n",
       "  <thead>\n",
       "    <tr style=\"text-align: right;\">\n",
       "      <th></th>\n",
       "      <th>PCA1</th>\n",
       "      <th>PCA2</th>\n",
       "    </tr>\n",
       "  </thead>\n",
       "  <tbody>\n",
       "    <tr>\n",
       "      <th>0</th>\n",
       "      <td>1.754028</td>\n",
       "      <td>-0.282838</td>\n",
       "    </tr>\n",
       "    <tr>\n",
       "      <th>1</th>\n",
       "      <td>-0.407099</td>\n",
       "      <td>-0.401151</td>\n",
       "    </tr>\n",
       "    <tr>\n",
       "      <th>2</th>\n",
       "      <td>2.720526</td>\n",
       "      <td>-0.003050</td>\n",
       "    </tr>\n",
       "    <tr>\n",
       "      <th>3</th>\n",
       "      <td>0.194339</td>\n",
       "      <td>-0.524651</td>\n",
       "    </tr>\n",
       "    <tr>\n",
       "      <th>4</th>\n",
       "      <td>0.366816</td>\n",
       "      <td>-0.575919</td>\n",
       "    </tr>\n",
       "  </tbody>\n",
       "</table>\n",
       "</div>"
      ],
      "text/plain": [
       "       PCA1      PCA2\n",
       "0  1.754028 -0.282838\n",
       "1 -0.407099 -0.401151\n",
       "2  2.720526 -0.003050\n",
       "3  0.194339 -0.524651\n",
       "4  0.366816 -0.575919"
      ]
     },
     "execution_count": 33,
     "metadata": {},
     "output_type": "execute_result"
    }
   ],
   "source": [
    "X_transformed.head()"
   ]
  },
  {
   "cell_type": "markdown",
   "id": "0757e13a",
   "metadata": {},
   "source": [
    "# Plot the points"
   ]
  },
  {
   "cell_type": "code",
   "execution_count": 37,
   "id": "1df1de19",
   "metadata": {},
   "outputs": [
    {
     "data": {
      "image/png": "[encoded data removed]",
      "text/plain": [
       "<Figure size 800x600 with 1 Axes>"
      ]
     },
     "metadata": {},
     "output_type": "display_data"
    }
   ],
   "source": [
    "# giving a larger plot\n",
    "plt.figure(figsize=(8, 6))\n",
    " \n",
    "plt.scatter(X_transformed.iloc[:, 0], X_transformed.iloc[:, 1],\n",
    "            c=Y,\n",
    "            cmap='plasma')\n",
    " \n",
    "# labeling x and y axes\n",
    "plt.xlabel('First Principal Component')\n",
    "plt.ylabel('Second Principal Component')\n",
    "plt.savefig('2D plot.jpeg')\n",
    "plt.show()\n"
   ]
  },
  {
   "cell_type": "code",
   "execution_count": null,
   "id": "50365bc6",
   "metadata": {},
   "outputs": [],
   "source": []
  }
 ],
 "metadata": {
  "kernelspec": {
   "display_name": "Python 3 (ipykernel)",
   "language": "python",
   "name": "python3"
  },
  "language_info": {
   "codemirror_mode": {
    "name": "ipython",
    "version": 3
   },
   "file_extension": ".py",
   "mimetype": "text/x-python",
   "name": "python",
   "nbconvert_exporter": "python",
   "pygments_lexer": "ipython3",
   "version": "3.8.6rc1"
  }
 },
 "nbformat": 4,
 "nbformat_minor": 5
}
